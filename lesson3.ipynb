{
  "cells": [
    {
      "cell_type": "code",
      "execution_count": null,
      "metadata": {
        "id": "kpNZrAQJYJ2M"
      },
      "outputs": [],
      "source": [
        "import keras # Импорт библиотеки Keras, которая является высокоуровневым интерфейсом для работы с нейронными сетями.\n",
        "from keras.layers import * # Импорт всех слоев нейронных сетей из модуля layers в Keras. Звездочка * означает, что импортируются все доступные слои.\n",
        "import matplotlib.pyplot as plt # Импорт модуля pyplot из библиотеки matplotlib для построения графиков.\n",
        "import numpy as np # Импорт библиотеки numpy, которая предоставляет функциональность для работы с многомерными массивами и матрицами.\n",
        "import keras.utils # Импорт модуля utils из Keras, который содержит утилиты для работы с данными.\n",
        "from tensorflow.keras.preprocessing import image # Импорт модуля image из подмодуля preprocessing в Keras, который предоставляет инструменты для обработки изображений перед обучением модели.\n",
        "import tensorflow as tf # Импорт библиотеки TensorFlow.\n",
        "from tensorflow.keras.datasets import imdb # Импорт датасета imdb_reviews из модуля datasets в TensorFlow, который содержит отзывы о фильмах.\n",
        "from tensorflow.keras.models import Sequential # Импорт класса Sequential из модуля models в TensorFlow, который позволяет создавать модели нейронных сетей, добавляя слои последовательно.\n",
        "from tensorflow.keras.layers import Dense, Embedding, Flatten # Импорт классов Dense, Embedding и Flatten из модуля layers в TensorFlow. Dense - полносвязный слой, Embedding - слой для работы с эмбеддингами текста, Flatten - слой для преобразования многомерных данных в одномерные."
      ]
    },
    {
      "cell_type": "code",
      "execution_count": null,
      "metadata": {
        "colab": {
          "base_uri": "https://localhost:8080/"
        },
        "id": "FfQxBx7_YhUp",
        "outputId": "adee870e-6811-42b0-c532-a0fc4b1407c1"
      },
      "outputs": [],
      "source": [
        "(x_train, y_train), (x_test, y_test) = keras.datasets.fashion_mnist.load_data() # выполняет загрузку данных из датасета Fashion MNIST и их разделение на обучающий и тестовый наборы. Давайте разберем каждую часть строки подробнее:\n",
        "\n",
        "#(x_train, y_train), (x_test, y_test): Эта часть кода используется для присваивания результата загрузки данных четырем переменным:\n",
        "\n",
        "#x_train: набор обучающих изображений\n",
        "# y_train: метки классов для обучающих изображений\n",
        "# x_test: набор тестовых изображений\n",
        "# y_test: метки классов для тестовых изображений\n",
        "# В данном случае данные разделены на две пары: обучающий и тестовый наборы.\n",
        "\n",
        "# keras.datasets.fashion_mnist.load_data(): Это метод load_data() из модуля fashion_mnist в Keras, который загружает данные из датасета Fashion MNIST.\n",
        "\n",
        "# Fashion MNIST - это датасет, аналогичный классическому датасету рукописных цифр MNIST, но содержащий изображения одежды и аксессуаров вместо цифр.\n",
        "\n",
        "# Этот метод возвращает четыре переменных: два кортежа, каждый из которых содержит обучающие и тестовые данные, и соответствующие им метки классов.\n",
        "\n",
        "# Таким образом, эта строка загружает данные из датасета Fashion MNIST и разделяет их на обучающий и тестовый наборы, которые можно использовать для обучения и оценки нейронных сетей."
      ]
    },
    {
      "cell_type": "code",
      "execution_count": null,
      "metadata": {
        "colab": {
          "base_uri": "https://localhost:8080/"
        },
        "id": "IZlYKXHjZGuL",
        "outputId": "46b16e0a-1a8f-40b5-e301-dec878df3540"
      },
      "outputs": [],
      "source": [
        "x_train.shape\n",
        "\n",
        "# используется для получения размерности массива x_train, который содержит обучающие изображения. Давайте разберем каждую часть этой строки подробнее:\n",
        "\n",
        "# x_train: Это массив, содержащий обучающие изображения. В данном контексте он представляет собой трехмерный массив, где каждый элемент представляет собой отдельное изображение.\n",
        "\n",
        "# .shape: Это атрибут, который позволяет получить размерность массива x_train. Возвращает кортеж, где каждый элемент представляет размерность массива в соответствующем измерении.\n",
        "\n",
        "# В данном случае, x_train.shape возвращает размерность массива x_train, то есть количество изображений, высоту каждого изображения и ширину каждого изображения.\n",
        "\n",
        "# Например, если x_train.shape возвращает (60000, 28, 28), это означает, что x_train содержит 60 000 изображений, каждое из которых имеет размер 28x28 пикселей.\n",
        "\n",
        "# Таким образом, строка x_train.shape используется для получения размерности массива обучающих изображений, что может быть полезно для проверки размерности данных перед их использованием в нейронных сетях или других алгоритмах машинного обучения."
      ]
    },
    {
      "cell_type": "code",
      "execution_count": null,
      "metadata": {
        "colab": {
          "base_uri": "https://localhost:8080/"
        },
        "id": "gKXIspse9ycJ",
        "outputId": "9a495ce2-582b-4f9f-8aa3-9eee0c9ef6c9"
      },
      "outputs": [],
      "source": [
        "y_train[:20]"
      ]
    },
    {
      "cell_type": "code",
      "execution_count": null,
      "metadata": {
        "colab": {
          "base_uri": "https://localhost:8080/",
          "height": 125
        },
        "id": "AniOnLDjbCTr",
        "outputId": "11ea6071-209d-412a-d78c-cdcf80b4a2f8"
      },
      "outputs": [],
      "source": [
        "for i in range(7):\n",
        "    plt.subplot(4,7,i+1)\n",
        "    plt.imshow(x_train[i])\n",
        "plt.show()"
      ]
    },
    {
      "cell_type": "code",
      "execution_count": null,
      "metadata": {
        "id": "3p22qd7kcB7h"
      },
      "outputs": [],
      "source": [
        "input_shape = (28, 28, 1)"
      ]
    },
    {
      "cell_type": "code",
      "execution_count": null,
      "metadata": {
        "id": "JI9SmXGDcj25"
      },
      "outputs": [],
      "source": [
        "model_1 = keras.Sequential([\n",
        "      keras.Input(shape=input_shape),\n",
        "      Conv2D(32, padding = 'same', kernel_size = (3,3), activation = 'relu' ),\n",
        "      MaxPooling2D( (2,2), strides = 2),\n",
        "      # Conv2D(64, padding = 'same', kernel_size = (3,3), activation = 'relu' ),\n",
        "      # MaxPooling2D( (2,2), strides = 2),\n",
        "      Flatten(), # перевод в одномерный массив\n",
        "      Dense(50,activation = 'relu'), # количество входных нейронов\n",
        "      Dense(10, activation = 'softmax')   # количество выходных нейронов\n",
        "      ] )"
      ]
    },
    {
      "cell_type": "code",
      "execution_count": null,
      "metadata": {
        "id": "0MLgXssjclxA"
      },
      "outputs": [],
      "source": [
        "model_1.compile(optimizer='adam',\n",
        "             loss='categorical_crossentropy',\n",
        "             metrics=['accuracy'])"
      ]
    },
    {
      "cell_type": "code",
      "execution_count": null,
      "metadata": {
        "id": "yg95egGp-2z3"
      },
      "outputs": [],
      "source": [
        "x_train = x_train / 255\n",
        "x_test = x_test / 255\n",
        "y_train_cat = keras.utils.to_categorical(y_train, 10)\n",
        "y_test_cat = keras.utils.to_categorical(y_test, 10)"
      ]
    },
    {
      "cell_type": "code",
      "execution_count": null,
      "metadata": {
        "colab": {
          "base_uri": "https://localhost:8080/"
        },
        "id": "mtFdx3_Jg8N1",
        "outputId": "9a6c10f3-54d2-469e-d7fa-1328cbaea852"
      },
      "outputs": [],
      "source": [
        "%%time\n",
        "\n",
        "history = model_1.fit(x_train, y_train_cat, batch_size=32, epochs=5,validation_data =(x_test, y_test_cat) )"
      ]
    },
    {
      "cell_type": "code",
      "execution_count": null,
      "metadata": {
        "id": "Je5Wj8VYjjdp"
      },
      "outputs": [],
      "source": [
        "model_2 = keras.Sequential([\n",
        "      keras.Input(shape=input_shape),\n",
        "      Flatten(),\n",
        "      Dense(50, activation = 'relu'),\n",
        "      Dense(10, activation = 'softmax')\n",
        "      ] )"
      ]
    },
    {
      "cell_type": "code",
      "execution_count": null,
      "metadata": {
        "id": "OA5x5am6jnBd"
      },
      "outputs": [],
      "source": [
        "model_2.compile(optimizer='adam',\n",
        "             loss='categorical_crossentropy',\n",
        "             metrics=['accuracy'])"
      ]
    },
    {
      "cell_type": "code",
      "execution_count": null,
      "metadata": {
        "colab": {
          "base_uri": "https://localhost:8080/"
        },
        "id": "8EqdnxD0jn1j",
        "outputId": "f17fc301-90a6-4be6-eb81-fa1e1ca5b2a0"
      },
      "outputs": [],
      "source": [
        "%%time\n",
        "\n",
        "history = model_2.fit(x_train, y_train_cat, batch_size=32, epochs=5,validation_data =(x_test, y_test_cat) )"
      ]
    },
    {
      "cell_type": "code",
      "execution_count": null,
      "metadata": {
        "id": "LWS5mv7fBQtd"
      },
      "outputs": [],
      "source": [
        "model_3 = keras.Sequential([\n",
        "      keras.Input(shape=input_shape),\n",
        "      Conv2D(32, padding = 'same', kernel_size = (3,3), activation = 'relu' ),\n",
        "      MaxPooling2D( (2,2), strides = 2),\n",
        "      Conv2D(64, padding = 'same', kernel_size = (3,3), activation = 'relu' ),\n",
        "      MaxPooling2D( (2,2), strides = 2),\n",
        "      Flatten(), # перевод в одномерный массив\n",
        "      Dense(50,activation = 'relu'), # количество входных нейронов\n",
        "      Dense(10, activation = 'softmax')   # количество выходных нейронов\n",
        "      ] )"
      ]
    },
    {
      "cell_type": "code",
      "execution_count": null,
      "metadata": {
        "id": "KXuF8L3LBQrM"
      },
      "outputs": [],
      "source": [
        "model_3.compile(optimizer='adam',\n",
        "             loss='categorical_crossentropy',\n",
        "             metrics=['accuracy'])"
      ]
    },
    {
      "cell_type": "code",
      "execution_count": null,
      "metadata": {
        "colab": {
          "base_uri": "https://localhost:8080/"
        },
        "id": "G_9tmxdZBQot",
        "outputId": "8f0eefa2-9571-45a4-8ffa-b82cbc3083d8"
      },
      "outputs": [],
      "source": [
        "%%time\n",
        "\n",
        "history = model_3.fit(x_train, y_train_cat, batch_size=32, epochs=5,validation_data =(x_test, y_test_cat) )"
      ]
    },
    {
      "cell_type": "code",
      "execution_count": null,
      "metadata": {
        "id": "mvFtofzfBQmG"
      },
      "outputs": [],
      "source": [
        "model_4 = keras.Sequential([\n",
        "      keras.Input(shape=input_shape),\n",
        "      Conv2D(32, padding = 'same', kernel_size = (3,3), activation = 'relu' ),\n",
        "      MaxPooling2D( (2,2), strides = 2),\n",
        "      Conv2D(64, padding = 'same', kernel_size = (3,3), activation = 'relu' ),\n",
        "      MaxPooling2D( (2,2), strides = 2),\n",
        "      Conv2D(128, padding = 'same', kernel_size = (3,3), activation = 'relu' ),\n",
        "      MaxPooling2D( (2,2), strides = 2),\n",
        "      Flatten(), # перевод в одномерный массив\n",
        "      Dense(128,activation = 'relu'), # количество входных нейронов\n",
        "      Dense(10, activation = 'softmax')   # количество выходных нейронов\n",
        "      ] )"
      ]
    },
    {
      "cell_type": "code",
      "execution_count": null,
      "metadata": {
        "id": "MWxC_TamBQjU"
      },
      "outputs": [],
      "source": [
        "model_4.compile(optimizer='adam',\n",
        "             loss='categorical_crossentropy',\n",
        "             metrics=['accuracy'])"
      ]
    },
    {
      "cell_type": "code",
      "execution_count": null,
      "metadata": {
        "colab": {
          "base_uri": "https://localhost:8080/"
        },
        "id": "86_Wbv68BQgU",
        "outputId": "2f6bf5c5-4d11-4053-f390-e6914bcbd393"
      },
      "outputs": [],
      "source": [
        "%%time\n",
        "\n",
        "history = model_4.fit(x_train, y_train_cat, batch_size=32, epochs=10,validation_data =(x_test, y_test_cat) )\n"
      ]
    },
    {
      "cell_type": "code",
      "execution_count": null,
      "metadata": {
        "colab": {
          "base_uri": "https://localhost:8080/",
          "height": 472
        },
        "id": "8DzirNSPwW3L",
        "outputId": "5a1fe61f-9304-4763-b8ec-632f7e3d3c6c"
      },
      "outputs": [],
      "source": [
        "plt.plot(history.history['accuracy'])\n",
        "plt.plot(history.history['val_accuracy'])\n",
        "plt.title('Точность модели')\n",
        "plt.ylabel('точность')\n",
        "plt.xlabel('количество эпох')\n",
        "plt.legend(['train', 'test'], loc='upper left')\n",
        "plt.show()"
      ]
    },
    {
      "cell_type": "code",
      "execution_count": null,
      "metadata": {
        "colab": {
          "base_uri": "https://localhost:8080/",
          "height": 472
        },
        "id": "d46nIvGawgJi",
        "outputId": "fce77f2b-8a71-444a-a844-b6195b282baa"
      },
      "outputs": [],
      "source": [
        "plt.plot(history.history['loss'])\n",
        "plt.plot(history.history['val_loss'])\n",
        "plt.title('Потери модели')\n",
        "plt.ylabel('Потери')\n",
        "plt.xlabel('количество эпох')\n",
        "plt.legend(['train', 'test'], loc='upper left')\n",
        "plt.show()"
      ]
    },
    {
      "cell_type": "code",
      "execution_count": null,
      "metadata": {
        "colab": {
          "base_uri": "https://localhost:8080/"
        },
        "id": "h29gt6t_Tr9a",
        "outputId": "04b8d0a0-2ba6-4c96-998d-70cab518ef3c"
      },
      "outputs": [],
      "source": [
        "model_4.summary()"
      ]
    },
    {
      "cell_type": "code",
      "execution_count": null,
      "metadata": {
        "colab": {
          "base_uri": "https://localhost:8080/",
          "height": 953
        },
        "id": "EiLsXa6NItoy",
        "outputId": "6e7e0e7d-94bd-4751-f5ae-af0d9f580290"
      },
      "outputs": [],
      "source": [
        "keras.utils.plot_model(model_4)"
      ]
    },
    {
      "cell_type": "code",
      "execution_count": null,
      "metadata": {},
      "outputs": [],
      "source": [
        "# Загрузка данных\n",
        "(train_data, train_labels), (test_data, test_labels) = imdb.load_data(num_words=10000)"
      ]
    },
    {
      "cell_type": "code",
      "execution_count": null,
      "metadata": {},
      "outputs": [],
      "source": [
        "# Предобработка данных\n",
        "max_len = 500\n",
        "train_data = tf.keras.preprocessing.sequence.pad_sequences(train_data, maxlen=max_len)\n",
        "test_data = tf.keras.preprocessing.sequence.pad_sequences(test_data, maxlen=max_len)"
      ]
    },
    {
      "cell_type": "code",
      "execution_count": null,
      "metadata": {},
      "outputs": [],
      "source": [
        "# Определение модели\n",
        "model = Sequential([\n",
        "    Embedding(input_dim=10000, output_dim=16, input_length=max_len),\n",
        "    Flatten(),\n",
        "    Dense(units=16, activation='relu'),\n",
        "    Dense(units=1, activation='sigmoid')\n",
        "])\n"
      ]
    },
    {
      "cell_type": "code",
      "execution_count": null,
      "metadata": {},
      "outputs": [],
      "source": [
        "# Компиляция модели\n",
        "model.compile(optimizer='adam',\n",
        "              loss='binary_crossentropy',\n",
        "              metrics=['accuracy'])"
      ]
    },
    {
      "cell_type": "code",
      "execution_count": null,
      "metadata": {},
      "outputs": [],
      "source": [
        "# Обучение модели\n",
        "history = model.fit(train_data, train_labels, epochs=10, batch_size=512, validation_split=0.2)"
      ]
    },
    {
      "cell_type": "code",
      "execution_count": null,
      "metadata": {},
      "outputs": [],
      "source": [
        "# Оценка модели\n",
        "loss, accuracy = model.evaluate(test_data, test_labels)\n",
        "print(f'Test Accuracy: {accuracy}')"
      ]
    }
  ],
  "metadata": {
    "accelerator": "GPU",
    "colab": {
      "gpuType": "T4",
      "provenance": []
    },
    "kernelspec": {
      "display_name": "Python 3",
      "name": "python3"
    },
    "language_info": {
      "name": "python",
      "version": "3.9.13"
    }
  },
  "nbformat": 4,
  "nbformat_minor": 0
}
